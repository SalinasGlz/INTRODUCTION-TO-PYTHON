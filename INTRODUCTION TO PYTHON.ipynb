{
 "cells": [
  {
   "cell_type": "markdown",
   "id": "fdf0c729",
   "metadata": {},
   "source": [
    "![Logo](https://img.olhardigital.com.br/wp-content/uploads/2020/04/20200423030657-1131x450.jpg)"
   ]
  },
  {
   "cell_type": "markdown",
   "id": "39dddc4e",
   "metadata": {},
   "source": [
    "# WHAT IS PYTHON?\n"
   ]
  },
  {
   "cell_type": "markdown",
   "id": "ea64096a",
   "metadata": {},
   "source": [
    "Python is a multiparadigm scripting language, this means that everyone can take their own style when decoding and that is why it is ready to solve any type of program, from applications, servers and even web pages. This is an interpreted program, which means that you do not need to compile the source code in order to run it."
   ]
  },
  {
   "cell_type": "markdown",
   "id": "dd71ad44",
   "metadata": {},
   "source": [
    "# HISTORY"
   ]
  },
  {
   "cell_type": "markdown",
   "id": "0a2eaca9",
   "metadata": {},
   "source": [
    "His story begins in the late 80s and early 90s with Guido Van Rossum, during Christmas 1989, he worked at the CWI, a Dutch research center where he decided to start a project, giving continuity to ABC, a language that It was based on Basic, this programming language was developed in the same research center. The project did not transcend because the hardware was very outdated at the time. So Guido gave him a second chance and created Python, which his name comes from a comedy group that he really liked called Monty Python. So he published the first version of Python in 1991, which was version 0.9.0 alt.sources. In this version we already had classes with inheritance, exception handling, functions and modular types available. By 1994 he created comp.lang. Python, a Python discussion forum that doubled its number of users, and in this same year it reached version 1.0 which included new tools for programming. Then he released the latest version 1.2 on CWI. \n",
    "\n",
    "![CWI](https://www.paradigmadigital.com/wp-content/uploads/2019/03/lenguajes-programacion-Python.png)\n",
    "\n",
    "Later, in 1995, Guido worked at the Corporation for national research initiatives. And in the year 2000, the main Python team moved to BeOpen.com to form the BeOpen Python Labs team and in this same year version 1.6 and 2.0 came out. Python 2.0 includes list generation, one of the most important features of the Haskell functional programming language. I also include a garbage collection system capable of collecting cyclic references. In 2001, the Python Software Foundation was created which, based on Python 2.1 owns all code documentation and language specifications.\n",
    "\n",
    "![LINE_TIME](https://upload.wikimedia.org/wikipedia/commons/2/23/PythonTimeline_2.png)\n",
    "\n",
    "Finally in 2008 the last major update to Python 3.0 was released designed to rectify fundamental flaws in the language design. Python versions 2.X and 3.X were created to coexist for the various relays that were released in parallel and this is because Python 2.6 and Python 3.0 were released at the same time, but they are incompatible in several respects and therefore are they keep both active."
   ]
  },
  {
   "cell_type": "markdown",
   "id": "d218edc1",
   "metadata": {},
   "source": [
    "![Guido](https://hsto.org/getpro/habr/post_images/07a/d0b/707/07ad0b707284f960a600194940340a80.jpg)"
   ]
  },
  {
   "cell_type": "markdown",
   "id": "c9622146",
   "metadata": {},
   "source": [
    "# USES"
   ]
  },
  {
   "cell_type": "markdown",
   "id": "fa5a5ee4",
   "metadata": {},
   "source": [
    "* Intelligence Artificial \n",
    "* Websites with django\n",
    "* Videogames with Panda3D\n",
    "* BigData\n",
    "\n",
    "![IA](https://unipython.com/wp-content/uploads/2019/05/Unipython-e-Inteligencia-Artificial-min-1023x511.jpg)"
   ]
  },
  {
   "cell_type": "markdown",
   "id": "33a9f481",
   "metadata": {},
   "source": [
    "# COMMANDS"
   ]
  },
  {
   "cell_type": "markdown",
   "id": "07c614bf",
   "metadata": {},
   "source": [
    "\n",
    "\n",
    "## 1.0 PRINT STATEMENT"
   ]
  },
  {
   "cell_type": "markdown",
   "id": "7bdb5a36",
   "metadata": {},
   "source": [
    "### 1.1 PRINT TEXT IN PYTHON"
   ]
  },
  {
   "cell_type": "markdown",
   "id": "bc05fdc4",
   "metadata": {},
   "source": [
    "With the print instruction we can ask Python to write whatever we want in the screen."
   ]
  },
  {
   "cell_type": "code",
   "execution_count": 2,
   "id": "6b89e44a",
   "metadata": {},
   "outputs": [
    {
     "name": "stdout",
     "output_type": "stream",
     "text": [
      "Hello Friends\n"
     ]
    }
   ],
   "source": [
    "print(\"Hello Friends\")"
   ]
  },
  {
   "cell_type": "markdown",
   "id": "6b9ee46d",
   "metadata": {},
   "source": [
    "### 1.2 SOLVING AN EQUATION INSIDE A PRINT STATEMENT"
   ]
  },
  {
   "cell_type": "markdown",
   "id": "6489e4be",
   "metadata": {},
   "source": [
    "In the first line we tell Python to print the question with the inequation to be done with quotation marks. In the second line we write the inequation without quotes."
   ]
  },
  {
   "cell_type": "code",
   "execution_count": 3,
   "id": "bfb1f036",
   "metadata": {},
   "outputs": [
    {
     "name": "stdout",
     "output_type": "stream",
     "text": [
      "45+45>10+20, True or False?\n",
      "90\n"
     ]
    }
   ],
   "source": [
    "print(\"45+45>10+20, True or False?\")\n",
    "print(45+45)"
   ]
  },
  {
   "cell_type": "markdown",
   "id": "3e05ab2e",
   "metadata": {},
   "source": [
    "### 1.3 PRINTING A VARIABLE"
   ]
  },
  {
   "cell_type": "markdown",
   "id": "65b2d0c7",
   "metadata": {},
   "source": [
    "We write the variable to declare without quotation marks."
   ]
  },
  {
   "cell_type": "code",
   "execution_count": 4,
   "id": "6e6768e9",
   "metadata": {},
   "outputs": [
    {
     "name": "stdout",
     "output_type": "stream",
     "text": [
      "Hello Friends\n",
      "45\n"
     ]
    }
   ],
   "source": [
    "x = \"Hello Friends\"\n",
    "print(x)\n",
    "\n",
    "y=45\n",
    "print(y)"
   ]
  },
  {
   "cell_type": "markdown",
   "id": "14a5b8ee",
   "metadata": {},
   "source": [
    "### 1.4 PRINTING TWO OUTPUTS IN THE SAME LINE"
   ]
  },
  {
   "cell_type": "markdown",
   "id": "f6bf3f2f",
   "metadata": {},
   "source": [
    "We use end='' to continue printing on the same line."
   ]
  },
  {
   "cell_type": "code",
   "execution_count": 5,
   "id": "3c2ff97a",
   "metadata": {},
   "outputs": [
    {
     "name": "stdout",
     "output_type": "stream",
     "text": [
      "His age is \n",
      "19 years old.\n"
     ]
    }
   ],
   "source": [
    "print(\"His age is \")\n",
    "print(\"19 years old.\")"
   ]
  },
  {
   "cell_type": "code",
   "execution_count": 6,
   "id": "e7465539",
   "metadata": {},
   "outputs": [
    {
     "name": "stdout",
     "output_type": "stream",
     "text": [
      "His age is 19 years old\n"
     ]
    }
   ],
   "source": [
    "print(\"His age is \", end='')\n",
    "print(\"19 years old\")"
   ]
  },
  {
   "cell_type": "markdown",
   "id": "d82160e4",
   "metadata": {},
   "source": [
    "### 1.5 TEXT AND VARIABLES IN THE SAME PRINT STATEMENT"
   ]
  },
  {
   "cell_type": "markdown",
   "id": "8d33d8bb",
   "metadata": {},
   "source": [
    "#### EXAMPLE 1"
   ]
  },
  {
   "cell_type": "markdown",
   "id": "cfbd19ea",
   "metadata": {},
   "source": [
    "Write an **f** before the quotation marks and **{name of the variable}**."
   ]
  },
  {
   "cell_type": "code",
   "execution_count": 7,
   "id": "cb47ea51",
   "metadata": {},
   "outputs": [
    {
     "name": "stdout",
     "output_type": "stream",
     "text": [
      "Hello, his age is 19 years old\n"
     ]
    }
   ],
   "source": [
    "his_age = \"19 years old\"\n",
    "print(f\"Hello, his age is {his_age}\")"
   ]
  },
  {
   "cell_type": "markdown",
   "id": "63e7bbb0",
   "metadata": {},
   "source": [
    "#### EXAMPLE 2"
   ]
  },
  {
   "cell_type": "markdown",
   "id": "b9d42d1b",
   "metadata": {},
   "source": [
    "We can print different outpouts sepparating with commas."
   ]
  },
  {
   "cell_type": "code",
   "execution_count": 8,
   "id": "a119c655",
   "metadata": {},
   "outputs": [
    {
     "name": "stdout",
     "output_type": "stream",
     "text": [
      "Hello, his age is 19 years old and his favorite color is red\n"
     ]
    }
   ],
   "source": [
    "his_age = \"19 years old\"\n",
    "his_color = \"red\"\n",
    "print(\"Hello, his age is\", his_age, \"and his favorite color is\", his_color)"
   ]
  },
  {
   "cell_type": "markdown",
   "id": "dd3fd668",
   "metadata": {},
   "source": [
    "### 1.6 ASKING FOR AN INPUT BEFORE A PRINT STATEMENT"
   ]
  },
  {
   "cell_type": "markdown",
   "id": "1db216b8",
   "metadata": {},
   "source": [
    "The word input indicates we are waiting for an answer, this will be saved in the variable name.\n",
    "\n",
    "The variable X has brackets {} to save a blank space we are going to fill in the future.\n",
    "\n",
    "variable1.format(variable 2) is used to insert a string variable inside another one."
   ]
  },
  {
   "cell_type": "code",
   "execution_count": 9,
   "id": "86e26c09",
   "metadata": {
    "scrolled": false
   },
   "outputs": [
    {
     "name": "stdout",
     "output_type": "stream",
     "text": [
      "What is your favorite color? blue\n",
      "Wow the blue is equal my favorite color! \n"
     ]
    }
   ],
   "source": [
    "my_color = input(\"What is your favorite color? \")\n",
    "x = \"Wow the {} is equal my favorite color! \"\n",
    "print(x.format(my_color))"
   ]
  },
  {
   "cell_type": "code",
   "execution_count": 10,
   "id": "073ee5fd",
   "metadata": {
    "scrolled": true
   },
   "outputs": [
    {
     "name": "stdout",
     "output_type": "stream",
     "text": [
      "What is your age? 15\n",
      "Wow are both we have 15 years old\n"
     ]
    }
   ],
   "source": [
    "age = input(\"What is your age? \")\n",
    "print(\"Wow are both we have\", age, \"years old\")"
   ]
  },
  {
   "cell_type": "code",
   "execution_count": 11,
   "id": "8c6403da",
   "metadata": {
    "scrolled": true
   },
   "outputs": [
    {
     "name": "stdout",
     "output_type": "stream",
     "text": [
      "How many correct answers did you get out of the thirty questions on the exam? 21\n",
      "You have a grade of 7.0 on your exam!\n"
     ]
    }
   ],
   "source": [
    "answers = int(input(\"How many correct answers did you get out of the thirty questions on the exam? \"))\n",
    "print(\"You have a grade of\", answers/30*10, \"on your exam!\")"
   ]
  },
  {
   "cell_type": "markdown",
   "id": "6c0c8955",
   "metadata": {},
   "source": [
    "## 2.0 IF-ELSE STATEMENT"
   ]
  },
  {
   "cell_type": "markdown",
   "id": "e50346ba",
   "metadata": {},
   "source": [
    "### 2.1 IF STATEMENT"
   ]
  },
  {
   "cell_type": "markdown",
   "id": "b1a31e11",
   "metadata": {},
   "source": [
    "The if control structure allows a program to execute instructions when a condition is met."
   ]
  },
  {
   "cell_type": "code",
   "execution_count": 12,
   "id": "d7a57713",
   "metadata": {},
   "outputs": [
    {
     "name": "stdout",
     "output_type": "stream",
     "text": [
      "The number 3 is a positive number\n"
     ]
    }
   ],
   "source": [
    "num1 = 3\n",
    "num2 = -1\n",
    "\n",
    "if num1 > num2 : #Condition\n",
    "    print(\"The number\", num1, \"is a positive number\") ##Code that will be run if the condition is fulfilled\n",
    "\n"
   ]
  },
  {
   "cell_type": "markdown",
   "id": "2393066d",
   "metadata": {},
   "source": [
    "To fulfill more than 1 condition, write the AND command."
   ]
  },
  {
   "cell_type": "code",
   "execution_count": 13,
   "id": "5af7f374",
   "metadata": {},
   "outputs": [
    {
     "name": "stdout",
     "output_type": "stream",
     "text": [
      "All the conditions have been fullfilled\n"
     ]
    }
   ],
   "source": [
    "num1 = 3\n",
    "num2 = 8\n",
    "num3 = 2\n",
    "\n",
    "if num1 <= num2 and num2 > num3 : ##num1 must be less than num2, and num2 must be greater than or equal to num3\n",
    "    print(\"All the conditions have been fullfilled\")\n",
    "    "
   ]
  },
  {
   "cell_type": "markdown",
   "id": "b52af974",
   "metadata": {},
   "source": [
    "To fullfill a single condition, write OR."
   ]
  },
  {
   "cell_type": "code",
   "execution_count": 14,
   "id": "57955342",
   "metadata": {},
   "outputs": [
    {
     "name": "stdout",
     "output_type": "stream",
     "text": [
      "A condition have been fulfilled\n"
     ]
    }
   ],
   "source": [
    "num1 = 35\n",
    "num2 = 45\n",
    "num3 = 55\n",
    "if num1 <= num2 or num3 > num2: #num 1 must be less than or equal to num2, and num3 must be greater than num2\n",
    "    print(\"A condition have been fulfilled\")"
   ]
  },
  {
   "cell_type": "code",
   "execution_count": 15,
   "id": "da1b9a5e",
   "metadata": {
    "scrolled": true
   },
   "outputs": [
    {
     "name": "stdout",
     "output_type": "stream",
     "text": [
      "How much money do you have? 400\n",
      "You have sufficient money\n"
     ]
    }
   ],
   "source": [
    "money = int(input(\"How much money do you have? \" ))\n",
    "if money <= 100:\n",
    "    print(\"You don't have enough money\")\n",
    "if money > 100 and money <= 500:\n",
    "    print(\"You have sufficient money\")\n",
    "if money > 500:\n",
    "    print(\"You have a lot of money\")"
   ]
  },
  {
   "cell_type": "markdown",
   "id": "dd99ea06",
   "metadata": {},
   "source": [
    "### 2.2 ELSE STATEMENT"
   ]
  },
  {
   "cell_type": "markdown",
   "id": "abdc7405",
   "metadata": {},
   "source": [
    "The else statement is executed if the condition is False and is fulfilled without evaluating any conditional expression and executes the block of followed statements."
   ]
  },
  {
   "cell_type": "code",
   "execution_count": 16,
   "id": "4990a8c4",
   "metadata": {},
   "outputs": [
    {
     "name": "stdout",
     "output_type": "stream",
     "text": [
      "What is your age? 19\n",
      "You are older\n"
     ]
    }
   ],
   "source": [
    "age = int(input(\"What is your age? \"))\n",
    "if age < 18:\n",
    "    print(\"You are minor\")\n",
    "else:\n",
    "    print(\"You are older\")"
   ]
  },
  {
   "cell_type": "markdown",
   "id": "80d12615",
   "metadata": {},
   "source": [
    "### 2.3 ELIF STATEMENT"
   ]
  },
  {
   "cell_type": "markdown",
   "id": "e5bbea4d",
   "metadata": {},
   "source": [
    "It is used to link several else ifs without increasing the tabulators, it would be like an \"if it is\""
   ]
  },
  {
   "cell_type": "code",
   "execution_count": 17,
   "id": "dfa475e5",
   "metadata": {},
   "outputs": [
    {
     "name": "stdout",
     "output_type": "stream",
     "text": [
      "Write a number greater than 100: 600\n",
      "Is a good number\n"
     ]
    }
   ],
   "source": [
    "number = int(input(\"Write a number greater than 100: \" ))\n",
    "if number < 100:\n",
    "             print(\"Your number is less than 100\")\n",
    "elif number < 1000:\n",
    "             print(\"Is a good number\")\n",
    "else:\n",
    "             print(\"Is a big number!!!\")"
   ]
  },
  {
   "cell_type": "markdown",
   "id": "4599d485",
   "metadata": {},
   "source": [
    "## 3.0 LISTS AND LOOPS"
   ]
  },
  {
   "cell_type": "markdown",
   "id": "52bfefc4",
   "metadata": {},
   "source": [
    "### 3.1 LIST"
   ]
  },
  {
   "cell_type": "markdown",
   "id": "a1a5da23",
   "metadata": {},
   "source": [
    "A list in Python is a data structure made up of an ordered sequence of objects. The elements of a list can be accessed by their index, where 0 is the index of the first element. The structure of a list is: name_of_the_list = [value1, value 2, value3]. The structure of a list is: name_of_the_list = [value1, value 2, value3]."
   ]
  },
  {
   "cell_type": "code",
   "execution_count": 18,
   "id": "1edc8856",
   "metadata": {},
   "outputs": [
    {
     "name": "stdout",
     "output_type": "stream",
     "text": [
      "Sandwich\n",
      "4\n"
     ]
    }
   ],
   "source": [
    "food = [\"Hamburger\", \"Pizza\", \"Sandwich\", \"Rice\"]\n",
    "amount = [1, 2, 3, 4, 5, 6, 7 ]\n",
    "\n",
    "print(food[2])\n",
    "print(amount[3])"
   ]
  },
  {
   "cell_type": "markdown",
   "id": "aaa751e2",
   "metadata": {},
   "source": [
    "### 3.2 FOR LOOP"
   ]
  },
  {
   "cell_type": "markdown",
   "id": "def81d5b",
   "metadata": {},
   "source": [
    "The for loop in Python is used to iterate over a sequence or other iterable objects. Iteration over a sequence is called a walkthrough.\n",
    "Loop continues until we reach the last item in the sequence.\n",
    "The structure of a for loop is:\n",
    "for name_of_the_variable in range(first_value,last_value):\n"
   ]
  },
  {
   "cell_type": "code",
   "execution_count": 19,
   "id": "a75131e7",
   "metadata": {},
   "outputs": [
    {
     "name": "stdout",
     "output_type": "stream",
     "text": [
      "LUIS LUIS LUIS LUIS LUIS LUIS LUIS LUIS LUIS LUIS LUIS LUIS LUIS LUIS LUIS LUIS LUIS LUIS LUIS LUIS LUIS LUIS LUIS LUIS LUIS "
     ]
    }
   ],
   "source": [
    "for i in range(0,25): #The loop will be run 25 times\n",
    "    print(\"LUIS\", end = ' ')"
   ]
  },
  {
   "cell_type": "markdown",
   "id": "5d7df003",
   "metadata": {},
   "source": [
    "end = '' is used to continue writing in the same line instead of jumping to the next one."
   ]
  },
  {
   "cell_type": "code",
   "execution_count": 20,
   "id": "16f5b258",
   "metadata": {},
   "outputs": [
    {
     "name": "stdout",
     "output_type": "stream",
     "text": [
      "Hamburger Pizza Sandwich Rice "
     ]
    }
   ],
   "source": [
    "food = [\"Hamburger\",  \"Pizza\", \"Sandwich\", \"Rice\"]\n",
    "for food in food:\n",
    "    print(food, end = ' ')"
   ]
  },
  {
   "cell_type": "markdown",
   "id": "fa92af02",
   "metadata": {},
   "source": [
    "#### EXAMPLE"
   ]
  },
  {
   "cell_type": "markdown",
   "id": "e117fe21",
   "metadata": {},
   "source": [
    "To add a value in a list, use the next command:\n",
    "\n",
    "name_of_the_list.append(value)"
   ]
  },
  {
   "cell_type": "code",
   "execution_count": 21,
   "id": "7ced0c16",
   "metadata": {},
   "outputs": [
    {
     "name": "stdout",
     "output_type": "stream",
     "text": [
      "Enter number of voltages: 4\n",
      "Introduce voltages: 25\n",
      "Introduce voltages: 25\n",
      "Introduce voltages: 25\n",
      "Introduce voltages: 25\n",
      "Your voltages are: \n",
      "25 25 25 25 \n",
      "\n",
      "Total Voltage: 100\n"
     ]
    }
   ],
   "source": [
    "values = int(input(\"Enter number of voltages: \"))\n",
    "voltages = []\n",
    "total = 0\n",
    "alto = []\n",
    "medio =[]\n",
    "bajo = []\n",
    "for i in range (0,values):\n",
    "    x = int(input(\"Introduce voltages: \"))\n",
    "    voltages.append(x)\n",
    "    total += x\n",
    "print(\"Your voltages are: \")\n",
    "\n",
    "for voltages in voltages:\n",
    "    print(voltages, end = ' ')\n",
    "    \n",
    "print(f\"\\n\\nTotal Voltage: {total}\")"
   ]
  },
  {
   "cell_type": "markdown",
   "id": "0adb2b6e",
   "metadata": {},
   "source": [
    "### 3.3 WHILE LOOP"
   ]
  },
  {
   "cell_type": "markdown",
   "id": "d6d78c59",
   "metadata": {},
   "source": [
    "A while loop will keep running until the condition in it is FALSE.\n",
    "\n"
   ]
  },
  {
   "cell_type": "code",
   "execution_count": 22,
   "id": "f554aa40",
   "metadata": {},
   "outputs": [
    {
     "name": "stdout",
     "output_type": "stream",
     "text": [
      "Enter your age: 55\n",
      "It's a real age\n"
     ]
    }
   ],
   "source": [
    "age=int(input(\"Enter your age: \"))\n",
    "\n",
    "counter=0\n",
    "\n",
    "while age < 0 or age >130:\n",
    " \n",
    " if age < 0:\n",
    "  print(\"Age cannot be negative!!!\")\n",
    " \n",
    " if age >130:\n",
    "  print(\"Enter a real age !!!(Less than 130..) \")\n",
    "\n",
    " age=int(input(\"Enter your age :\"))\n",
    " counter=counter+1\n",
    " if counter==2:\n",
    "  print(\" You have entered the age incorrectly 3 times, the program has ended.\")\n",
    "  break; \n",
    "if counter<2: \n",
    " print(\"It's a real age\")"
   ]
  }
 ],
 "metadata": {
  "kernelspec": {
   "display_name": "Python 3",
   "language": "python",
   "name": "python3"
  },
  "language_info": {
   "codemirror_mode": {
    "name": "ipython",
    "version": 3
   },
   "file_extension": ".py",
   "mimetype": "text/x-python",
   "name": "python",
   "nbconvert_exporter": "python",
   "pygments_lexer": "ipython3",
   "version": "3.8.8"
  }
 },
 "nbformat": 4,
 "nbformat_minor": 5
}
